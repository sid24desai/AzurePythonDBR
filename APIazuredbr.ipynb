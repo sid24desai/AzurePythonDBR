{
 "cells": [
  {
   "cell_type": "code",
   "execution_count": null,
   "id": "072bbc73",
   "metadata": {},
   "outputs": [],
   "source": [
    "import requests\n",
    "\n",
    "# Set the API endpoint URL\n",
    "url = \"https://your-splunk-instance.com:8089/services/search/jobs/export\"\n",
    "\n",
    "# Set the request headers and parameters\n",
    "headers = {\n",
    "    \"Authorization\": \"Splunk <your-token>\",\n",
    "    \"Content-Type\": \"application/x-www-form-urlencoded\"\n",
    "}\n",
    "params = {\n",
    "    \"search\": \"search index=main | head 10\",\n",
    "    \"output_mode\": \"json\"\n",
    "}\n",
    "\n",
    "# Make the API call\n",
    "response = requests.get(url, headers=headers, params=params)\n",
    "\n",
    "# Print the response content\n",
    "print(response.content)"
   ]
  }
 ],
 "metadata": {
  "kernelspec": {
   "display_name": "Python 3.8 - Jupyter",
   "language": "python",
   "name": "python38-jupyter"
  },
  "language_info": {
   "codemirror_mode": {
    "name": "ipython",
    "version": 3
   },
   "file_extension": ".py",
   "mimetype": "text/x-python",
   "name": "python",
   "nbconvert_exporter": "python",
   "pygments_lexer": "ipython3",
   "version": "3.8.5"
  }
 },
 "nbformat": 4,
 "nbformat_minor": 5
}
