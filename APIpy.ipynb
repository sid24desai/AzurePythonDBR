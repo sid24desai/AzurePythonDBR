{
 "cells": [
  {
   "cell_type": "code",
   "execution_count": null,
   "id": "96ca7f52",
   "metadata": {},
   "outputs": [],
   "source": [
    "import json\n",
    "import requests as rq\n",
    "\n",
    "def get_data(url):\n",
    "    try:\n",
    "        return rq.get(url).text\n",
    "    except Exception as e:\n",
    "        print(\"Unable to load URL\")\n",
    "\n",
    "def load_json(data):\n",
    "    if not data is None:\n",
    "        j = json.loads(data)\n",
    "\n",
    "        fname = j[\"results\"][0][\"name\"][\"first\"]\n",
    "        lname = j[\"results\"][0][\"name\"][\"last\"]\n",
    "        email = j[\"results\"][0][\"email\"]\n",
    "\n",
    "        return fname, lname, email\n",
    "\n",
    "def main():\n",
    "    url = \"https://randomuser.me/api\"\n",
    "\n",
    "    values = load_json(get_data(url))\n",
    "\n",
    "    if not values is None:\n",
    "        print(\"First Name: \", values[0])\n",
    "        print(\"Last Name: \", values[1])\n",
    "        print(\"Email: \", values[2])"
   ]
  }
 ],
 "metadata": {
  "kernelspec": {
   "display_name": "Python 3.8 - Jupyter",
   "language": "python",
   "name": "python38-jupyter"
  },
  "language_info": {
   "codemirror_mode": {
    "name": "ipython",
    "version": 3
   },
   "file_extension": ".py",
   "mimetype": "text/x-python",
   "name": "python",
   "nbconvert_exporter": "python",
   "pygments_lexer": "ipython3",
   "version": "3.8.5"
  }
 },
 "nbformat": 4,
 "nbformat_minor": 5
}
